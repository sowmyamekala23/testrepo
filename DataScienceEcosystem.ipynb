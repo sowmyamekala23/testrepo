{
 "cells": [
  {
   "cell_type": "markdown",
   "id": "a93ff1b7-719c-499b-93c0-65b6436e08e3",
   "metadata": {},
   "source": [
    "# Data Science Tools and Ecosystem"
   ]
  },
  {
   "cell_type": "markdown",
   "id": "df70e3fa-e199-4339-aff7-8f972d6d08f4",
   "metadata": {},
   "source": [
    "## In this notebook, Data Science Tools and Ecosystem are summarized."
   ]
  },
  {
   "cell_type": "markdown",
   "id": "904d5c58-d2c7-4b3c-8d9a-d15bcc8a624c",
   "metadata": {},
   "source": [
    "**Objectives:**\n",
    "\n",
    "- Understand the importance of data science.\n",
    "- List popular languages for Data Science.\n",
    "- Explore various data science libraries and tools.\n",
    "- Learn basic data visualization techniques.\n",
    "- Gain an overview of machine learning workflows.\n"
   ]
  },
  {
   "cell_type": "markdown",
   "id": "b3c5e586-aeb4-4f34-ab5e-b914aa9dfb10",
   "metadata": {},
   "source": [
    "### Some of the popular languages that Data Scientists use are:"
   ]
  },
  {
   "cell_type": "markdown",
   "id": "21fabb1a-6e0c-45c3-84d1-97ed97077842",
   "metadata": {},
   "source": [
    "### 1. Python"
   ]
  },
  {
   "cell_type": "markdown",
   "id": "9f595b81-8a66-448f-8d2f-b0e0a44ad1d9",
   "metadata": {},
   "source": [
    "### 2. RStudio"
   ]
  },
  {
   "cell_type": "markdown",
   "id": "fea6578f-149c-458e-afaf-50c475a0bb43",
   "metadata": {},
   "source": [
    "### 3. Java"
   ]
  },
  {
   "cell_type": "markdown",
   "id": "39962bfb-3eb6-4732-a608-9e385d4bc4bd",
   "metadata": {},
   "source": [
    "### 4 . Julia"
   ]
  },
  {
   "cell_type": "markdown",
   "id": "7f220eab-36a9-4b22-b0b1-8932e8b9f932",
   "metadata": {},
   "source": [
    "### Some of the commonly used libraries used by Data Scientists include:"
   ]
  },
  {
   "cell_type": "markdown",
   "id": "c023e9e2-64b3-42e7-821e-7de547bc0d4f",
   "metadata": {},
   "source": [
    "### 1. NumPy"
   ]
  },
  {
   "cell_type": "markdown",
   "id": "4a96edd0-7eb3-4b69-acb5-8214c8ccfbc4",
   "metadata": {},
   "source": [
    "### 2. Pandas"
   ]
  },
  {
   "cell_type": "markdown",
   "id": "404c7d64-224e-462c-9b05-877e48b7d582",
   "metadata": {
    "jp-MarkdownHeadingCollapsed": true
   },
   "source": [
    "### 3.ScikitLearn"
   ]
  },
  {
   "cell_type": "markdown",
   "id": "1bb55452-f073-4525-aed9-d790a72e2054",
   "metadata": {},
   "source": [
    "### 4. NLTK"
   ]
  },
  {
   "cell_type": "markdown",
   "id": "2753d9ec-36e6-4fcf-890d-466786433af9",
   "metadata": {},
   "source": [
    "| Data Science Tools |\n",
    "|---------------------|\n",
    "| Jupyter Notebook    |\n",
    "| RStudio             |\n",
    "| Visual Studio Code  |\n"
   ]
  },
  {
   "cell_type": "markdown",
   "id": "73311d11-9f00-44c4-b131-a8e4c00bbc7e",
   "metadata": {},
   "source": [
    "### Below are a few examples of evaluating arithmetic expressions in Python"
   ]
  },
  {
   "cell_type": "code",
   "execution_count": 7,
   "id": "3bd928b5-d3c7-482d-ae7b-820b8ca1bfbb",
   "metadata": {},
   "outputs": [],
   "source": [
    "#This a simple arithmetic expression to mutiply then add integers "
   ]
  },
  {
   "cell_type": "code",
   "execution_count": 8,
   "id": "2eb05538-a419-4290-b3ef-fc9ec4cc3e57",
   "metadata": {},
   "outputs": [
    {
     "data": {
      "text/plain": [
       "17"
      ]
     },
     "execution_count": 8,
     "metadata": {},
     "output_type": "execute_result"
    }
   ],
   "source": [
    "(3*4)+5"
   ]
  },
  {
   "cell_type": "code",
   "execution_count": 9,
   "id": "83378c90-bc7a-4062-966b-8b2015434273",
   "metadata": {},
   "outputs": [],
   "source": [
    "#This will convert 200 minutes to hours by diving by 60"
   ]
  },
  {
   "cell_type": "code",
   "execution_count": 10,
   "id": "18aa7da8-f1be-4511-baf0-ce2a6467157b",
   "metadata": {},
   "outputs": [],
   "source": [
    "minutes = 200"
   ]
  },
  {
   "cell_type": "code",
   "execution_count": 11,
   "id": "2cf9663f-a03a-43fa-b1c9-fb51777a1859",
   "metadata": {},
   "outputs": [],
   "source": [
    "hours = minutes/60"
   ]
  },
  {
   "cell_type": "code",
   "execution_count": 12,
   "id": "1cb1d1d1-1c3a-4795-87a1-cfb291fa2234",
   "metadata": {},
   "outputs": [
    {
     "data": {
      "text/plain": [
       "3.3333333333333335"
      ]
     },
     "execution_count": 12,
     "metadata": {},
     "output_type": "execute_result"
    }
   ],
   "source": [
    "hours"
   ]
  },
  {
   "cell_type": "markdown",
   "id": "9d63dfa5-a003-4b38-a28f-25d3fbc44409",
   "metadata": {},
   "source": [
    "## Author"
   ]
  },
  {
   "cell_type": "code",
   "execution_count": null,
   "id": "7153f1ff-dc17-465f-a835-e54b5b9c9b32",
   "metadata": {},
   "outputs": [],
   "source": [
    "Soumyasri Mekala\n"
   ]
  }
 ],
 "metadata": {
  "kernelspec": {
   "display_name": "Python 3 (ipykernel)",
   "language": "python",
   "name": "python3"
  },
  "language_info": {
   "codemirror_mode": {
    "name": "ipython",
    "version": 3
   },
   "file_extension": ".py",
   "mimetype": "text/x-python",
   "name": "python",
   "nbconvert_exporter": "python",
   "pygments_lexer": "ipython3",
   "version": "3.12.0"
  }
 },
 "nbformat": 4,
 "nbformat_minor": 5
}
